{
  "nbformat": 4,
  "nbformat_minor": 0,
  "metadata": {
    "colab": {
      "provenance": []
    },
    "kernelspec": {
      "name": "python3",
      "display_name": "Python 3"
    },
    "language_info": {
      "name": "python"
    }
  },
  "cells": [
    {
      "cell_type": "code",
      "source": [
        "!pip install -q pyomo"
      ],
      "metadata": {
        "id": "mR3z00tzv1TO"
      },
      "execution_count": null,
      "outputs": []
    },
    {
      "cell_type": "code",
      "source": [
        "import numpy as np\n",
        "from pyomo.environ import *"
      ],
      "metadata": {
        "id": "WHJcuuoqzQXB"
      },
      "execution_count": null,
      "outputs": []
    },
    {
      "cell_type": "code",
      "source": [
        "def rastrigin(model):\n",
        "  return 20 + model.x**2 + model.y**2 - 10 * (cos(2 * np.pi * model.x) + cos(2 * np.pi * model.y))"
      ],
      "metadata": {
        "id": "3iKH1XaxyyKQ"
      },
      "execution_count": null,
      "outputs": []
    },
    {
      "cell_type": "code",
      "source": [
        "# --- Create a model\n",
        "model         = ConcreteModel()\n",
        "\n",
        "# --- Declare variables with bounds\n",
        "model.x         = Var(bounds = (int(5 * np.pi), int(20 * np.pi)), within = Integers)\n",
        "model.y         = Var(bounds = (-20 * np.pi, -4 * np.pi), within = Reals)\n",
        "\n",
        "# --- Declare objective function\n",
        "model.objfun    = Objective(rule = rastrigin, sense = minimize)\n",
        "\n",
        "model.pprint()"
      ],
      "metadata": {
        "id": "kouexw0o7hJO",
        "colab": {
          "base_uri": "https://localhost:8080/"
        },
        "outputId": "451a9539-1d48-4e66-b642-e2fcc501abdb"
      },
      "execution_count": null,
      "outputs": [
        {
          "output_type": "stream",
          "name": "stdout",
          "text": [
            "2 Var Declarations\n",
            "    x : Size=1, Index=None\n",
            "        Key  : Lower : Value : Upper : Fixed : Stale : Domain\n",
            "        None :    15 :  None :    62 : False :  True : Integers\n",
            "    y : Size=1, Index=None\n",
            "        Key  : Lower              : Value : Upper               : Fixed : Stale : Domain\n",
            "        None : -62.83185307179586 :  None : -12.566370614359172 : False :  True :  Reals\n",
            "\n",
            "1 Objective Declarations\n",
            "    objfun : Size=1, Index=None, Active=True\n",
            "        Key  : Active : Sense    : Expression\n",
            "        None :   True : minimize : 20 + x**2 + y**2 - 10*(cos(6.283185307179586*x) + cos(6.283185307179586*y))\n",
            "\n",
            "3 Declarations: x y objfun\n"
          ]
        }
      ]
    },
    {
      "cell_type": "code",
      "source": [
        "!wget -N -q \"https://github.com/thomasfork/ipopt_linux/raw/main/ipopt-linux64.zip\"\n",
        "!unzip -o -q ipopt-linux64"
      ],
      "metadata": {
        "id": "N38d46a5xuQM"
      },
      "execution_count": null,
      "outputs": []
    },
    {
      "cell_type": "code",
      "source": [
        "SolverFactory('ipopt', executable='/content/ipopt').solve(model).write()\n",
        "#SolverFactory('multistart').solve(model, strategy = 'rand_guess_and_bound', solver = 'ipopt', iterations = 50).write()\n",
        "\n",
        "# display solution\n",
        "print('\\nObjective function = ', model.objfun)\n",
        "\n",
        "print('\\nDecision Variables')\n",
        "print('x = ', model.x())\n",
        "print('y = ', model.y())"
      ],
      "metadata": {
        "colab": {
          "base_uri": "https://localhost:8080/"
        },
        "id": "ceRF2nOFxwbc",
        "outputId": "43542dd3-0d6b-4959-b3c5-273e647e365e"
      },
      "execution_count": null,
      "outputs": [
        {
          "output_type": "stream",
          "name": "stdout",
          "text": [
            "# ==========================================================\n",
            "# = Solver Results                                         =\n",
            "# ==========================================================\n",
            "# ----------------------------------------------------------\n",
            "#   Problem Information\n",
            "# ----------------------------------------------------------\n",
            "Problem: \n",
            "- Lower bound: -inf\n",
            "  Upper bound: inf\n",
            "  Number of objectives: 1\n",
            "  Number of constraints: 0\n",
            "  Number of variables: 2\n",
            "  Sense: unknown\n",
            "# ----------------------------------------------------------\n",
            "#   Solver Information\n",
            "# ----------------------------------------------------------\n",
            "Solver: \n",
            "- Status: ok\n",
            "  Message: Ipopt 3.12.13\\x3a Optimal Solution Found\n",
            "  Termination condition: optimal\n",
            "  Id: 0\n",
            "  Error rc: 0\n",
            "  Time: 0.02223348617553711\n",
            "# ----------------------------------------------------------\n",
            "#   Solution Information\n",
            "# ----------------------------------------------------------\n",
            "Solution: \n",
            "- number of solutions: 0\n",
            "  number of solutions displayed: 0\n",
            "\n",
            "Objective function =  objfun\n",
            "\n",
            "Decision Variables\n",
            "x =  15.0\n",
            "y =  -12.932475703722323\n"
          ]
        }
      ]
    }
  ]
}