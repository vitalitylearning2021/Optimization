{
  "nbformat": 4,
  "nbformat_minor": 0,
  "metadata": {
    "colab": {
      "provenance": []
    },
    "kernelspec": {
      "name": "python3",
      "display_name": "Python 3"
    },
    "language_info": {
      "name": "python"
    }
  },
  "cells": [
    {
      "cell_type": "code",
      "execution_count": 1,
      "metadata": {
        "colab": {
          "base_uri": "https://localhost:8080/"
        },
        "id": "9BtJQyBtv2qB",
        "outputId": "920575e2-6ed6-4a60-842d-dfd3aca1c845"
      },
      "outputs": [
        {
          "output_type": "stream",
          "name": "stdout",
          "text": [
            "\u001b[2K     \u001b[90m━━━━━━━━━━━━━━━━━━━━━━━━━━━━━━━━━━━━━━━━\u001b[0m \u001b[32m12.8/12.8 MB\u001b[0m \u001b[31m19.3 MB/s\u001b[0m eta \u001b[36m0:00:00\u001b[0m\n",
            "\u001b[2K     \u001b[90m━━━━━━━━━━━━━━━━━━━━━━━━━━━━━━━━━━━━━━━━\u001b[0m \u001b[32m49.6/49.6 kB\u001b[0m \u001b[31m2.8 MB/s\u001b[0m eta \u001b[36m0:00:00\u001b[0m\n",
            "\u001b[?25h"
          ]
        }
      ],
      "source": [
        "!pip install -q pyomo"
      ]
    },
    {
      "cell_type": "code",
      "source": [
        "!wget -N -q \"https://github.com/thomasfork/ipopt_linux/raw/main/ipopt-linux64.zip\"\n",
        "!unzip -o -q ipopt-linux64"
      ],
      "metadata": {
        "id": "s-IVjXlgwWo4"
      },
      "execution_count": 2,
      "outputs": []
    },
    {
      "cell_type": "code",
      "source": [
        "import numpy as np\n",
        "from pyomo.environ import *"
      ],
      "metadata": {
        "id": "WjuWZqK9x9Xc"
      },
      "execution_count": 3,
      "outputs": []
    },
    {
      "cell_type": "code",
      "source": [
        "def styblinski_tang(model):\n",
        "  delta = 0.\n",
        "  for i in model.x:\n",
        "    delta = delta + model.params[1] * (model.params[2] * model.x[i] * model.x[i] * model.x[i] * model.x[i] + model.params[3] * model.x[i]**2 + model.params[4] * model.x[i])\n",
        "  return delta"
      ],
      "metadata": {
        "id": "2f_7p5ymyXHv"
      },
      "execution_count": 4,
      "outputs": []
    },
    {
      "cell_type": "code",
      "source": [
        "# --- Create a model\n",
        "model               = ConcreteModel()\n",
        "\n",
        "N_unknowns          = 10\n",
        "model.N_unknowns    = Param(RangeSet(1, 1), initialize = N_unknowns, within = Integers)\n",
        "model.i             = RangeSet(1, N_unknowns)\n",
        "model.x             = Var(model.i, within = Reals)\n",
        "v                   = {}\n",
        "v[1]                = 0.5\n",
        "v[2]                = 1.\n",
        "v[3]                = -16.\n",
        "v[4]                = 5.\n",
        "model.params        = Param(RangeSet(1, 4), initialize = v, within = Reals)\n",
        "for i in model.i:\n",
        "  model.x[i].value = -.3\n",
        "  model.x[i].lower = -5.\n",
        "  model.x[i].upper = 5.\n",
        "\n",
        "# --- Declare objective function\n",
        "model.objfun    = Objective(rule = styblinski_tang, sense = minimize)\n",
        "\n",
        "model.pprint()"
      ],
      "metadata": {
        "colab": {
          "base_uri": "https://localhost:8080/"
        },
        "id": "-6FfxX9zybOT",
        "outputId": "3e0e7c12-8d0a-441c-939e-dc8bcdd23091"
      },
      "execution_count": 5,
      "outputs": [
        {
          "output_type": "stream",
          "name": "stdout",
          "text": [
            "1 RangeSet Declarations\n",
            "    i : Dimen=1, Size=10, Bounds=(1, 10)\n",
            "        Key  : Finite : Members\n",
            "        None :   True :  [1:10]\n",
            "\n",
            "2 Param Declarations\n",
            "    N_unknowns : Size=1, Index=[1], Domain=Integers, Default=None, Mutable=False\n",
            "        Key : Value\n",
            "          1 :    10\n",
            "    params : Size=4, Index=[1:4], Domain=Reals, Default=None, Mutable=False\n",
            "        Key : Value\n",
            "          1 :   0.5\n",
            "          2 :   1.0\n",
            "          3 : -16.0\n",
            "          4 :   5.0\n",
            "\n",
            "1 Var Declarations\n",
            "    x : Size=10, Index=i\n",
            "        Key : Lower : Value : Upper : Fixed : Stale : Domain\n",
            "          1 :  -5.0 :  -0.3 :   5.0 : False : False :  Reals\n",
            "          2 :  -5.0 :  -0.3 :   5.0 : False : False :  Reals\n",
            "          3 :  -5.0 :  -0.3 :   5.0 : False : False :  Reals\n",
            "          4 :  -5.0 :  -0.3 :   5.0 : False : False :  Reals\n",
            "          5 :  -5.0 :  -0.3 :   5.0 : False : False :  Reals\n",
            "          6 :  -5.0 :  -0.3 :   5.0 : False : False :  Reals\n",
            "          7 :  -5.0 :  -0.3 :   5.0 : False : False :  Reals\n",
            "          8 :  -5.0 :  -0.3 :   5.0 : False : False :  Reals\n",
            "          9 :  -5.0 :  -0.3 :   5.0 : False : False :  Reals\n",
            "         10 :  -5.0 :  -0.3 :   5.0 : False : False :  Reals\n",
            "\n",
            "1 Objective Declarations\n",
            "    objfun : Size=1, Index=None, Active=True\n",
            "        Key  : Active : Sense    : Expression\n",
            "        None :   True : minimize : 0.5*(x[1]*x[1]*x[1]*x[1] - 16.0*x[1]**2 + 5.0*x[1]) + 0.5*(x[2]*x[2]*x[2]*x[2] - 16.0*x[2]**2 + 5.0*x[2]) + 0.5*(x[3]*x[3]*x[3]*x[3] - 16.0*x[3]**2 + 5.0*x[3]) + 0.5*(x[4]*x[4]*x[4]*x[4] - 16.0*x[4]**2 + 5.0*x[4]) + 0.5*(x[5]*x[5]*x[5]*x[5] - 16.0*x[5]**2 + 5.0*x[5]) + 0.5*(x[6]*x[6]*x[6]*x[6] - 16.0*x[6]**2 + 5.0*x[6]) + 0.5*(x[7]*x[7]*x[7]*x[7] - 16.0*x[7]**2 + 5.0*x[7]) + 0.5*(x[8]*x[8]*x[8]*x[8] - 16.0*x[8]**2 + 5.0*x[8]) + 0.5*(x[9]*x[9]*x[9]*x[9] - 16.0*x[9]**2 + 5.0*x[9]) + 0.5*(x[10]*x[10]*x[10]*x[10] - 16.0*x[10]**2 + 5.0*x[10])\n",
            "\n",
            "5 Declarations: N_unknowns i x params objfun\n"
          ]
        }
      ]
    },
    {
      "cell_type": "code",
      "source": [
        "SolverFactory('ipopt', executable='/content/ipopt').solve(model).write()\n",
        "#SolverFactory('multistart').solve(model, strategy = 'rand_guess_and_bound', solver = 'ipopt', iterations = 50).write()\n",
        "\n",
        "# display solution\n",
        "print('\\nObjective function = ', model.objfun)\n",
        "\n",
        "print('\\nDecision Variables')\n",
        "for i in model.x:\n",
        "  print(model.x[i]())\n",
        "\n",
        "print(model.N_unknowns[1])"
      ],
      "metadata": {
        "colab": {
          "base_uri": "https://localhost:8080/"
        },
        "id": "wwQflwA30EOW",
        "outputId": "d0ce97f7-9be9-46cc-e74a-b0757d9526f3"
      },
      "execution_count": 6,
      "outputs": [
        {
          "output_type": "stream",
          "name": "stdout",
          "text": [
            "# ==========================================================\n",
            "# = Solver Results                                         =\n",
            "# ==========================================================\n",
            "# ----------------------------------------------------------\n",
            "#   Problem Information\n",
            "# ----------------------------------------------------------\n",
            "Problem: \n",
            "- Lower bound: -inf\n",
            "  Upper bound: inf\n",
            "  Number of objectives: 1\n",
            "  Number of constraints: 0\n",
            "  Number of variables: 10\n",
            "  Sense: unknown\n",
            "# ----------------------------------------------------------\n",
            "#   Solver Information\n",
            "# ----------------------------------------------------------\n",
            "Solver: \n",
            "- Status: ok\n",
            "  Message: Ipopt 3.12.13\\x3a Optimal Solution Found\n",
            "  Termination condition: optimal\n",
            "  Id: 0\n",
            "  Error rc: 0\n",
            "  Time: 0.03781867027282715\n",
            "# ----------------------------------------------------------\n",
            "#   Solution Information\n",
            "# ----------------------------------------------------------\n",
            "Solution: \n",
            "- number of solutions: 0\n",
            "  number of solutions displayed: 0\n",
            "\n",
            "Objective function =  objfun\n",
            "\n",
            "Decision Variables\n",
            "-2.903534027745782\n",
            "-2.903534027745782\n",
            "-2.903534027745782\n",
            "-2.903534027745782\n",
            "-2.903534027745782\n",
            "-2.903534027745782\n",
            "-2.903534027745782\n",
            "-2.903534027745782\n",
            "-2.903534027745782\n",
            "-2.903534027745782\n",
            "10\n"
          ]
        }
      ]
    }
  ]
}
