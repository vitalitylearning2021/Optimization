{
  "nbformat": 4,
  "nbformat_minor": 0,
  "metadata": {
    "colab": {
      "provenance": []
    },
    "kernelspec": {
      "name": "python3",
      "display_name": "Python 3"
    },
    "language_info": {
      "name": "python"
    }
  },
  "cells": [
    {
      "cell_type": "code",
      "execution_count": null,
      "metadata": {
        "colab": {
          "base_uri": "https://localhost:8080/"
        },
        "id": "9BtJQyBtv2qB",
        "outputId": "c3c5a218-e599-47fc-b8f2-f8b5f8febed1"
      },
      "outputs": [
        {
          "output_type": "stream",
          "name": "stdout",
          "text": [
            "\u001b[2K     \u001b[90m━━━━━━━━━━━━━━━━━━━━━━━━━━━━━━━━━━━━━━━━\u001b[0m \u001b[32m12.8/12.8 MB\u001b[0m \u001b[31m36.7 MB/s\u001b[0m eta \u001b[36m0:00:00\u001b[0m\n",
            "\u001b[2K     \u001b[90m━━━━━━━━━━━━━━━━━━━━━━━━━━━━━━━━━━━━━━━━\u001b[0m \u001b[32m49.6/49.6 kB\u001b[0m \u001b[31m2.3 MB/s\u001b[0m eta \u001b[36m0:00:00\u001b[0m\n",
            "\u001b[?25h"
          ]
        }
      ],
      "source": [
        "!pip install -q pyomo"
      ]
    },
    {
      "cell_type": "code",
      "source": [
        "!wget -N -q \"https://github.com/thomasfork/ipopt_linux/raw/main/ipopt-linux64.zip\"\n",
        "!unzip -o -q ipopt-linux64"
      ],
      "metadata": {
        "id": "s-IVjXlgwWo4"
      },
      "execution_count": null,
      "outputs": []
    },
    {
      "cell_type": "code",
      "source": [
        "import numpy as np\n",
        "from pyomo.environ import *"
      ],
      "metadata": {
        "id": "WjuWZqK9x9Xc"
      },
      "execution_count": null,
      "outputs": []
    },
    {
      "cell_type": "code",
      "source": [
        "def rosembrock(model):\n",
        "  return (1 - model.x[1])**2 + 100. * (model.x[2] - model.x[1]**2)**2\n",
        "\n",
        "def constraint1(model):\n",
        "  return (model.x[1] - 1.)**3 - model.x[2] + 1 <= 0.\n",
        "\n",
        "def constraint2(model):\n",
        "  return model.x[1] + model.x[2] - 2. <= 0."
      ],
      "metadata": {
        "id": "2f_7p5ymyXHv"
      },
      "execution_count": null,
      "outputs": []
    },
    {
      "cell_type": "code",
      "source": [
        "# --- Create a model\n",
        "model             = ConcreteModel()\n",
        "\n",
        "model.x           = Var((1, 2), within = Reals)\n",
        "\n",
        "model.x[1].value  = 3.\n",
        "model.x[2].value  = -4.\n",
        "\n",
        "model.x[1].lower  = -1.5\n",
        "model.x[1].upper  = 1.5\n",
        "model.x[2].lower  = -0.5\n",
        "model.x[2].upper  = 2.5\n",
        "\n",
        "# --- Declare objective function\n",
        "model.objfun      = Objective(rule = rosembrock, sense = minimize)\n",
        "\n",
        "model.Constraint1 = Constraint(rule = constraint1)\n",
        "model.Constraint2 = Constraint(rule = constraint2)\n",
        "\n",
        "model.pprint()"
      ],
      "metadata": {
        "colab": {
          "base_uri": "https://localhost:8080/"
        },
        "id": "-6FfxX9zybOT",
        "outputId": "3ac92385-0a89-44d1-98a7-e31e114c433b"
      },
      "execution_count": null,
      "outputs": [
        {
          "output_type": "stream",
          "name": "stdout",
          "text": [
            "1 Var Declarations\n",
            "    x : Size=2, Index={1, 2}\n",
            "        Key : Lower : Value : Upper : Fixed : Stale : Domain\n",
            "          1 :  -1.5 :   3.0 :   1.5 : False : False :  Reals\n",
            "          2 :  -0.5 :  -4.0 :   2.5 : False : False :  Reals\n",
            "\n",
            "1 Objective Declarations\n",
            "    objfun : Size=1, Index=None, Active=True\n",
            "        Key  : Active : Sense    : Expression\n",
            "        None :   True : minimize : (1 - x[1])**2 + 100.0*(x[2] - x[1]**2)**2\n",
            "\n",
            "2 Constraint Declarations\n",
            "    Constraint1 : Size=1, Index=None, Active=True\n",
            "        Key  : Lower : Body                       : Upper : Active\n",
            "        None :  -Inf : (x[1] - 1.0)**3 - x[2] + 1 :   0.0 :   True\n",
            "    Constraint2 : Size=1, Index=None, Active=True\n",
            "        Key  : Lower : Body              : Upper : Active\n",
            "        None :  -Inf : x[1] + x[2] - 2.0 :   0.0 :   True\n",
            "\n",
            "4 Declarations: x objfun Constraint1 Constraint2\n"
          ]
        }
      ]
    },
    {
      "cell_type": "code",
      "source": [
        "SolverFactory('ipopt', executable='/content/ipopt').solve(model).write()\n",
        "#SolverFactory('multistart').solve(model, strategy = 'rand_guess_and_bound', solver = 'ipopt', iterations = 50).write()\n",
        "\n",
        "# display solution\n",
        "print('\\nObjective function = ', model.objfun)\n",
        "\n",
        "print('\\nDecision Variables')\n",
        "for i in model.x:\n",
        "  print(model.x[i]())\n"
      ],
      "metadata": {
        "colab": {
          "base_uri": "https://localhost:8080/"
        },
        "id": "wwQflwA30EOW",
        "outputId": "d0f07aae-48be-407d-ff5f-0f7305f7eaa0"
      },
      "execution_count": null,
      "outputs": [
        {
          "output_type": "stream",
          "name": "stdout",
          "text": [
            "# ==========================================================\n",
            "# = Solver Results                                         =\n",
            "# ==========================================================\n",
            "# ----------------------------------------------------------\n",
            "#   Problem Information\n",
            "# ----------------------------------------------------------\n",
            "Problem: \n",
            "- Lower bound: -inf\n",
            "  Upper bound: inf\n",
            "  Number of objectives: 1\n",
            "  Number of constraints: 2\n",
            "  Number of variables: 2\n",
            "  Sense: unknown\n",
            "# ----------------------------------------------------------\n",
            "#   Solver Information\n",
            "# ----------------------------------------------------------\n",
            "Solver: \n",
            "- Status: ok\n",
            "  Message: Ipopt 3.12.13\\x3a Optimal Solution Found\n",
            "  Termination condition: optimal\n",
            "  Id: 0\n",
            "  Error rc: 0\n",
            "  Time: 0.015726327896118164\n",
            "# ----------------------------------------------------------\n",
            "#   Solution Information\n",
            "# ----------------------------------------------------------\n",
            "Solution: \n",
            "- number of solutions: 0\n",
            "  number of solutions displayed: 0\n",
            "\n",
            "Objective function =  objfun\n",
            "\n",
            "Decision Variables\n",
            "0.999996842701661\n",
            "1.000000918843114\n"
          ]
        }
      ]
    }
  ]
}