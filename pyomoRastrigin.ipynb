{
  "nbformat": 4,
  "nbformat_minor": 0,
  "metadata": {
    "colab": {
      "provenance": []
    },
    "kernelspec": {
      "name": "python3",
      "display_name": "Python 3"
    },
    "language_info": {
      "name": "python"
    }
  },
  "cells": [
    {
      "cell_type": "code",
      "execution_count": 1,
      "metadata": {
        "id": "9BtJQyBtv2qB",
        "colab": {
          "base_uri": "https://localhost:8080/"
        },
        "outputId": "db23b33f-c84d-4ec8-f6bc-132eb704748b"
      },
      "outputs": [
        {
          "output_type": "stream",
          "name": "stdout",
          "text": [
            "\u001b[2K     \u001b[90m━━━━━━━━━━━━━━━━━━━━━━━━━━━━━━━━━━━━━━━━\u001b[0m \u001b[32m12.8/12.8 MB\u001b[0m \u001b[31m35.6 MB/s\u001b[0m eta \u001b[36m0:00:00\u001b[0m\n",
            "\u001b[2K     \u001b[90m━━━━━━━━━━━━━━━━━━━━━━━━━━━━━━━━━━━━━━━━\u001b[0m \u001b[32m49.6/49.6 kB\u001b[0m \u001b[31m2.4 MB/s\u001b[0m eta \u001b[36m0:00:00\u001b[0m\n",
            "\u001b[?25h"
          ]
        }
      ],
      "source": [
        "!pip install -q pyomo"
      ]
    },
    {
      "cell_type": "code",
      "source": [
        "!wget -N -q \"https://github.com/thomasfork/ipopt_linux/raw/main/ipopt-linux64.zip\"\n",
        "!unzip -o -q ipopt-linux64"
      ],
      "metadata": {
        "id": "s-IVjXlgwWo4"
      },
      "execution_count": 2,
      "outputs": []
    },
    {
      "cell_type": "code",
      "source": [
        "import numpy as np\n",
        "from pyomo.environ import *"
      ],
      "metadata": {
        "id": "WjuWZqK9x9Xc"
      },
      "execution_count": 3,
      "outputs": []
    },
    {
      "cell_type": "code",
      "source": [
        "def rastrigin(model):\n",
        "    delta = 0.\n",
        "    for i in model.x:\n",
        "      delta = delta + model.x[i]**2 - model.A[1] * cos(2 * np.pi * model.x[i])\n",
        "    return model.A[1] * model.N_unknowns[1] + delta"
      ],
      "metadata": {
        "id": "2f_7p5ymyXHv"
      },
      "execution_count": 4,
      "outputs": []
    },
    {
      "cell_type": "code",
      "source": [
        "# --- Create a model\n",
        "model         = ConcreteModel()\n",
        "\n",
        "N_unknowns          = 10\n",
        "model.N_unknowns    = Param(RangeSet(1, 1), initialize = N_unknowns, within = Integers)\n",
        "model.i             = RangeSet(1, N_unknowns)\n",
        "model.x             = Var(model.i, within = Reals)\n",
        "A                   = 10.0\n",
        "model.A             = Param(RangeSet(1, 1), initialize = A, within = Reals)\n",
        "for i in model.i:\n",
        "  model.x[i].value = .3\n",
        "  model.x[i].lower = -5.12\n",
        "  model.x[i].upper =  5.12\n",
        "\n",
        "# --- Declare objective function\n",
        "model.objfun    = Objective(rule = rastrigin, sense = minimize)\n",
        "\n",
        "model.pprint()"
      ],
      "metadata": {
        "colab": {
          "base_uri": "https://localhost:8080/"
        },
        "id": "-6FfxX9zybOT",
        "outputId": "c3a773a5-3a4b-4384-9600-10343c1b2869"
      },
      "execution_count": 7,
      "outputs": [
        {
          "output_type": "stream",
          "name": "stdout",
          "text": [
            "1 RangeSet Declarations\n",
            "    i : Dimen=1, Size=10, Bounds=(1, 10)\n",
            "        Key  : Finite : Members\n",
            "        None :   True :  [1:10]\n",
            "\n",
            "2 Param Declarations\n",
            "    A : Size=1, Index=[1], Domain=Reals, Default=None, Mutable=False\n",
            "        Key : Value\n",
            "          1 :  10.0\n",
            "    N_unknowns : Size=1, Index=[1], Domain=Integers, Default=None, Mutable=False\n",
            "        Key : Value\n",
            "          1 :    10\n",
            "\n",
            "1 Var Declarations\n",
            "    x : Size=10, Index=i\n",
            "        Key : Lower : Value : Upper : Fixed : Stale : Domain\n",
            "          1 : -5.12 :   0.3 :  5.12 : False : False :  Reals\n",
            "          2 : -5.12 :   0.3 :  5.12 : False : False :  Reals\n",
            "          3 : -5.12 :   0.3 :  5.12 : False : False :  Reals\n",
            "          4 : -5.12 :   0.3 :  5.12 : False : False :  Reals\n",
            "          5 : -5.12 :   0.3 :  5.12 : False : False :  Reals\n",
            "          6 : -5.12 :   0.3 :  5.12 : False : False :  Reals\n",
            "          7 : -5.12 :   0.3 :  5.12 : False : False :  Reals\n",
            "          8 : -5.12 :   0.3 :  5.12 : False : False :  Reals\n",
            "          9 : -5.12 :   0.3 :  5.12 : False : False :  Reals\n",
            "         10 : -5.12 :   0.3 :  5.12 : False : False :  Reals\n",
            "\n",
            "1 Objective Declarations\n",
            "    objfun : Size=1, Index=None, Active=True\n",
            "        Key  : Active : Sense    : Expression\n",
            "        None :   True : minimize : x[1]**2 - 10.0*cos(6.283185307179586*x[1]) + x[2]**2 - 10.0*cos(6.283185307179586*x[2]) + x[3]**2 - 10.0*cos(6.283185307179586*x[3]) + x[4]**2 - 10.0*cos(6.283185307179586*x[4]) + x[5]**2 - 10.0*cos(6.283185307179586*x[5]) + x[6]**2 - 10.0*cos(6.283185307179586*x[6]) + x[7]**2 - 10.0*cos(6.283185307179586*x[7]) + x[8]**2 - 10.0*cos(6.283185307179586*x[8]) + x[9]**2 - 10.0*cos(6.283185307179586*x[9]) + x[10]**2 - 10.0*cos(6.283185307179586*x[10]) + 100.0\n",
            "\n",
            "5 Declarations: N_unknowns i x A objfun\n"
          ]
        }
      ]
    },
    {
      "cell_type": "code",
      "source": [
        "SolverFactory('ipopt', executable='/content/ipopt').solve(model).write()\n",
        "#SolverFactory('multistart').solve(model, strategy = 'rand_guess_and_bound', solver = 'ipopt', iterations = 50).write()\n",
        "\n",
        "# display solution\n",
        "print('\\nObjective function = ', model.objfun)\n",
        "\n",
        "print('\\nDecision Variables')\n",
        "for i in model.x:\n",
        "  print(model.x[i]())\n",
        "\n",
        "print(model.A[1])\n",
        "print(model.N_unknowns[1])"
      ],
      "metadata": {
        "colab": {
          "base_uri": "https://localhost:8080/"
        },
        "id": "wwQflwA30EOW",
        "outputId": "f2e8a4ce-80f2-4118-b387-cd12ca278364"
      },
      "execution_count": 8,
      "outputs": [
        {
          "output_type": "stream",
          "name": "stdout",
          "text": [
            "# ==========================================================\n",
            "# = Solver Results                                         =\n",
            "# ==========================================================\n",
            "# ----------------------------------------------------------\n",
            "#   Problem Information\n",
            "# ----------------------------------------------------------\n",
            "Problem: \n",
            "- Lower bound: -inf\n",
            "  Upper bound: inf\n",
            "  Number of objectives: 1\n",
            "  Number of constraints: 0\n",
            "  Number of variables: 10\n",
            "  Sense: unknown\n",
            "# ----------------------------------------------------------\n",
            "#   Solver Information\n",
            "# ----------------------------------------------------------\n",
            "Solver: \n",
            "- Status: ok\n",
            "  Message: Ipopt 3.12.13\\x3a Optimal Solution Found\n",
            "  Termination condition: optimal\n",
            "  Id: 0\n",
            "  Error rc: 0\n",
            "  Time: 0.012269020080566406\n",
            "# ----------------------------------------------------------\n",
            "#   Solution Information\n",
            "# ----------------------------------------------------------\n",
            "Solution: \n",
            "- number of solutions: 0\n",
            "  number of solutions displayed: 0\n",
            "\n",
            "Objective function =  objfun\n",
            "\n",
            "Decision Variables\n",
            "-5.693328288899916e-26\n",
            "-5.693328288899916e-26\n",
            "-5.693328288899916e-26\n",
            "-5.693328288899916e-26\n",
            "-5.693328288899916e-26\n",
            "-5.693328288899916e-26\n",
            "-5.693328288899916e-26\n",
            "-5.693328288899916e-26\n",
            "-5.693328288899916e-26\n",
            "-5.693328288899916e-26\n",
            "10.0\n",
            "10\n"
          ]
        }
      ]
    }
  ]
}